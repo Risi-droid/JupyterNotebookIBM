{
    "cells": [
        {
            "cell_type": "markdown",
            "metadata": {
                "collapsed": true
            },
            "source": "# Data Science Tools and Ecosystem"
        },
        {
            "cell_type": "markdown",
            "metadata": {},
            "source": "In this notebook, Data Science Tools and Ecosystem are summarized."
        },
        {
            "cell_type": "markdown",
            "metadata": {},
            "source": "**Objectives:**\n* List popular languages for Data Science\n* List some of the libraries used by Data Science\n* List Data Science tools\n* Evaluate arithmetic expressions"
        },
        {
            "cell_type": "markdown",
            "metadata": {},
            "source": " Some of the popular languages that Data Scientists use are:\n1. Python\n2. R\n3. Scala\n4. SQL"
        },
        {
            "cell_type": "markdown",
            "metadata": {},
            "source": "Some of the commonly used libraries used by Data Scientists include:\n1. matplotlib\n2. seaborn\n3. pandas\n4. Scikit-learn\n5. Keras"
        },
        {
            "cell_type": "markdown",
            "metadata": {},
            "source": "Data Science Tools |\n---\nRstudio\nJupyter notebooks\nJupyter Lab\nApache Zeppelin\n"
        },
        {
            "cell_type": "markdown",
            "metadata": {},
            "source": "### Below are a few examples of evaluating arithmetic expressions in Python"
        },
        {
            "cell_type": "code",
            "execution_count": 15,
            "metadata": {
                "scrolled": true
            },
            "outputs": [
                {
                    "data": {
                        "text/plain": "17"
                    },
                    "execution_count": 15,
                    "metadata": {},
                    "output_type": "execute_result"
                }
            ],
            "source": "# This a simple arithmetic expression to mutiply then add integers\n(3*4)+5"
        },
        {
            "cell_type": "code",
            "execution_count": 16,
            "metadata": {},
            "outputs": [
                {
                    "data": {
                        "text/plain": "3.3333333333333335"
                    },
                    "execution_count": 16,
                    "metadata": {},
                    "output_type": "execute_result"
                }
            ],
            "source": " # This will convert 200 minutes to hours by diving by 60\n200/60"
        },
        {
            "cell_type": "markdown",
            "metadata": {},
            "source": "## Author\nRisilda Osmani"
        }
    ],
    "metadata": {
        "kernelspec": {
            "display_name": "Python 3.10",
            "language": "python",
            "name": "python3"
        },
        "language_info": {
            "codemirror_mode": {
                "name": "ipython",
                "version": 3
            },
            "file_extension": ".py",
            "mimetype": "text/x-python",
            "name": "python",
            "nbconvert_exporter": "python",
            "pygments_lexer": "ipython3",
            "version": "3.10.6"
        }
    },
    "nbformat": 4,
    "nbformat_minor": 1
}